{
  "nbformat": 4,
  "nbformat_minor": 0,
  "metadata": {
    "colab": {
      "provenance": [],
      "include_colab_link": true
    },
    "kernelspec": {
      "name": "python3",
      "display_name": "Python 3"
    },
    "language_info": {
      "name": "python"
    }
  },
  "cells": [
    {
      "cell_type": "markdown",
      "metadata": {
        "id": "view-in-github",
        "colab_type": "text"
      },
      "source": [
        "<a href=\"https://colab.research.google.com/github/vrshushma/dav_ls/blob/main/basic_operations_of_numpy.ipynb\" target=\"_parent\"><img src=\"https://colab.research.google.com/assets/colab-badge.svg\" alt=\"Open In Colab\"/></a>"
      ]
    },
    {
      "cell_type": "code",
      "execution_count": null,
      "metadata": {
        "colab": {
          "base_uri": "https://localhost:8080/"
        },
        "id": "_zqsjBFAmGbq",
        "outputId": "a4b5cf82-9399-4ee0-8e88-6b5c591aff65"
      },
      "outputs": [
        {
          "output_type": "stream",
          "name": "stdout",
          "text": [
            "1D array\n",
            "shape (5,)\n",
            "size 5\n",
            "dimension 1\n",
            "length 5\n"
          ]
        }
      ],
      "source": [
        "import numpy as np\n",
        "a = np.array([1,2,3,4,5])\n",
        "print(\"1D array\")\n",
        "print(\"shape\",a.shape)\n",
        "print(\"size\",a.size)\n",
        "print(\"dimension\",a.ndim)\n",
        "print(\"length\",len(a))"
      ]
    },
    {
      "cell_type": "code",
      "source": [
        "b = np.array([[1,2,3],[4,5,6]])\n",
        "print(\"2D array\")\n",
        "print(\"shape\",b.shape)\n",
        "print(\"size\",b.size)\n",
        "print(\"dimension\",b.ndim)\n",
        "print(\"length\",len(b))"
      ],
      "metadata": {
        "colab": {
          "base_uri": "https://localhost:8080/"
        },
        "id": "TmO23hEDm-Pz",
        "outputId": "f8ba747d-8d3d-44a3-9d90-ed244ddbbc4d"
      },
      "execution_count": null,
      "outputs": [
        {
          "output_type": "stream",
          "name": "stdout",
          "text": [
            "2D array\n",
            "shape (2, 3)\n",
            "size 6\n",
            "dimension 2\n",
            "length 2\n"
          ]
        }
      ]
    },
    {
      "cell_type": "code",
      "source": [
        "c = np.array([[[1,2],[2,3],[3,7]]])\n",
        "print(\"3D array\")\n",
        "print(\"shape\",c.shape)\n",
        "print(\"size\",c.size)\n",
        "print(\"dimension\",c.ndim)\n",
        "print(\"length\",len(c))"
      ],
      "metadata": {
        "colab": {
          "base_uri": "https://localhost:8080/"
        },
        "id": "evyiqo_YnBMK",
        "outputId": "722b5ca5-6df9-4e88-e678-749855248e14"
      },
      "execution_count": null,
      "outputs": [
        {
          "output_type": "stream",
          "name": "stdout",
          "text": [
            "3D array\n",
            "shape (1, 3, 2)\n",
            "size 6\n",
            "dimension 3\n",
            "length 1\n"
          ]
        }
      ]
    },
    {
      "cell_type": "code",
      "source": [
        "odd_numbers = np.arange(-29,11,2)\n",
        "print(odd_numbers)"
      ],
      "metadata": {
        "colab": {
          "base_uri": "https://localhost:8080/"
        },
        "id": "WYsqdv1unLjq",
        "outputId": "70ab1f4a-d0ee-46c9-cf68-6881299661eb"
      },
      "execution_count": null,
      "outputs": [
        {
          "output_type": "stream",
          "name": "stdout",
          "text": [
            "[-29 -27 -25 -23 -21 -19 -17 -15 -13 -11  -9  -7  -5  -3  -1   1   3   5\n",
            "   7   9]\n"
          ]
        }
      ]
    },
    {
      "cell_type": "code",
      "source": [
        "num_students = 50\n",
        "student_marks = np.random.randint(0,100,num_students)\n",
        "passed_students_count = np.sum(student_marks >= 30)\n",
        "failed_students_count = np.sum(student_marks < 30)\n",
        "print(\"Passed students count\",passed_students_count)\n",
        "print(\"Failed students count\",failed_students_count)"
      ],
      "metadata": {
        "colab": {
          "base_uri": "https://localhost:8080/"
        },
        "id": "G6L5_VnXqq76",
        "outputId": "4c255850-23c5-4aa0-9bcf-4a2a1c5fb756"
      },
      "execution_count": null,
      "outputs": [
        {
          "output_type": "stream",
          "name": "stdout",
          "text": [
            "Passed students count 40\n",
            "Failed students count 10\n"
          ]
        }
      ]
    },
    {
      "cell_type": "code",
      "source": [
        "import numpy as np\n",
        "\n",
        "# Create an array of 5 evenly spaced numbers between 0 and 10\n",
        "space = np.linspace(0, 10, 5)\n",
        "print(space)"
      ],
      "metadata": {
        "id": "O78K2S3lrcg4",
        "colab": {
          "base_uri": "https://localhost:8080/"
        },
        "outputId": "769e1f48-a02f-4256-ef64-0e73407fe9b4"
      },
      "execution_count": null,
      "outputs": [
        {
          "output_type": "stream",
          "name": "stdout",
          "text": [
            "[ 0.   2.5  5.   7.5 10. ]\n"
          ]
        }
      ]
    },
    {
      "cell_type": "code",
      "source": [
        "import numpy as np\n",
        "\n",
        "# Create a 1D array of 5 ones (all elements set to 1)\n",
        "a = np.ones(5)\n",
        "print(a)"
      ],
      "metadata": {
        "colab": {
          "base_uri": "https://localhost:8080/"
        },
        "id": "frI_LzE2Oql0",
        "outputId": "f017128c-fe95-4df7-93c8-c1ae482b2260"
      },
      "execution_count": null,
      "outputs": [
        {
          "output_type": "stream",
          "name": "stdout",
          "text": [
            "[1. 1. 1. 1. 1.]\n"
          ]
        }
      ]
    },
    {
      "cell_type": "code",
      "source": [
        "import numpy as np\n",
        "\n",
        "# Create a 1D array of 5 zeros (all elements set to 0)\n",
        "b = np.zeros(5)\n",
        "print(b)"
      ],
      "metadata": {
        "colab": {
          "base_uri": "https://localhost:8080/"
        },
        "id": "17H4D58cPDpX",
        "outputId": "b0363967-de39-4eb5-aa6f-4bab81e0f0ec"
      },
      "execution_count": null,
      "outputs": [
        {
          "output_type": "stream",
          "name": "stdout",
          "text": [
            "[0. 0. 0. 0. 0.]\n"
          ]
        }
      ]
    },
    {
      "cell_type": "code",
      "source": [
        "import numpy as np\n",
        "\n",
        "# Create a 1D array\n",
        "data = np.array([1, 2, 3, 4])\n",
        "\n",
        "# Create a diagonal matrix with the elements from the 1D array\n",
        "diagonal_matrix = np.diag(data)\n",
        "print(diagonal_matrix)\n"
      ],
      "metadata": {
        "colab": {
          "base_uri": "https://localhost:8080/"
        },
        "id": "1pIJ6GgfCwtO",
        "outputId": "efa60798-0ecf-4c2e-c51e-9a1c36b4f88e"
      },
      "execution_count": null,
      "outputs": [
        {
          "output_type": "stream",
          "name": "stdout",
          "text": [
            "[[1 0 0 0]\n",
            " [0 2 0 0]\n",
            " [0 0 3 0]\n",
            " [0 0 0 4]]\n"
          ]
        }
      ]
    },
    {
      "cell_type": "code",
      "source": [
        "numbers = [1, 2, 3, 4, 5]\n",
        "total_sum = sum(numbers)\n",
        "print(\"The sum of the numbers is:\", total_sum)\n"
      ],
      "metadata": {
        "colab": {
          "base_uri": "https://localhost:8080/"
        },
        "id": "n8NUQ0gBDEMW",
        "outputId": "7619f235-57d0-4118-a9f1-560ba8a042b1"
      },
      "execution_count": null,
      "outputs": [
        {
          "output_type": "stream",
          "name": "stdout",
          "text": [
            "The sum of the numbers is: 15\n"
          ]
        }
      ]
    },
    {
      "cell_type": "code",
      "source": [
        "a = [4, 8, 1, 9, 3, 5]\n",
        "min_value = min(a)\n",
        "print(min_value)"
      ],
      "metadata": {
        "colab": {
          "base_uri": "https://localhost:8080/"
        },
        "id": "3WDSsHYSD8mN",
        "outputId": "af904bf3-3c32-467d-848b-0a1c7d2015ac"
      },
      "execution_count": null,
      "outputs": [
        {
          "output_type": "stream",
          "name": "stdout",
          "text": [
            "1\n"
          ]
        }
      ]
    },
    {
      "cell_type": "code",
      "source": [
        "numbers = [3, 7, 1, 9, 4]\n",
        "largest_number = max(numbers)\n",
        "print(largest_number)"
      ],
      "metadata": {
        "colab": {
          "base_uri": "https://localhost:8080/"
        },
        "id": "esz7U2TUEQz-",
        "outputId": "0d097781-85f0-4192-a08c-b3209ae8f3c3"
      },
      "execution_count": null,
      "outputs": [
        {
          "output_type": "stream",
          "name": "stdout",
          "text": [
            "9\n"
          ]
        }
      ]
    },
    {
      "cell_type": "code",
      "source": [
        "import statistics\n",
        "data = [2, 5, 1, 8, 3]\n",
        "avg = statistics.mean(data)\n",
        "print(avg)"
      ],
      "metadata": {
        "colab": {
          "base_uri": "https://localhost:8080/"
        },
        "id": "o6yfD7c9Ej9v",
        "outputId": "4933657f-d3b6-4220-bc07-fa7cdcef4e00"
      },
      "execution_count": null,
      "outputs": [
        {
          "output_type": "stream",
          "name": "stdout",
          "text": [
            "3.8\n"
          ]
        }
      ]
    },
    {
      "cell_type": "code",
      "source": [
        "import numpy as np\n",
        "rows = 5\n",
        "cols = 3\n",
        "random_array = np.random.randint(1,51, size=(rows, cols))\n",
        "print(random_array)\n"
      ],
      "metadata": {
        "colab": {
          "base_uri": "https://localhost:8080/"
        },
        "id": "QnUXY4iRGaFx",
        "outputId": "544848e2-6faa-42d7-9430-6245cfb3be0a"
      },
      "execution_count": null,
      "outputs": [
        {
          "output_type": "stream",
          "name": "stdout",
          "text": [
            "[[37  6 13]\n",
            " [11 20 49]\n",
            " [45 23 33]\n",
            " [23  3 25]\n",
            " [44 28 45]]\n"
          ]
        }
      ]
    },
    {
      "cell_type": "code",
      "source": [
        "odd_numbers = np.arange(-30,10)\n",
        "print(odd_numbers)"
      ],
      "metadata": {
        "colab": {
          "base_uri": "https://localhost:8080/"
        },
        "id": "yCo8TfhgHKZu",
        "outputId": "5ba26c4c-c303-4c32-8c70-85c67ef339a9"
      },
      "execution_count": null,
      "outputs": [
        {
          "output_type": "stream",
          "name": "stdout",
          "text": [
            "[-30 -29 -28 -27 -26 -25 -24 -23 -22 -21 -20 -19 -18 -17 -16 -15 -14 -13\n",
            " -12 -11 -10  -9  -8  -7  -6  -5  -4  -3  -2  -1   0   1   2   3   4   5\n",
            "   6   7   8   9]\n"
          ]
        }
      ]
    },
    {
      "cell_type": "code",
      "source": [
        "shape = (2, 3, 4)\n",
        "random_numbers = np.random.randint(10,41, size=shape)\n",
        "print(random_numbers)"
      ],
      "metadata": {
        "colab": {
          "base_uri": "https://localhost:8080/"
        },
        "id": "riy8Ze-OHw4b",
        "outputId": "bd66f671-bff0-4ef8-ae1b-10e7590393ba"
      },
      "execution_count": null,
      "outputs": [
        {
          "output_type": "stream",
          "name": "stdout",
          "text": [
            "[[[39 25 32 22]\n",
            "  [25 28 34 31]\n",
            "  [38 13 21 13]]\n",
            "\n",
            " [[26 28 33 39]\n",
            "  [31 32 26 35]\n",
            "  [29 12 32 39]]]\n"
          ]
        }
      ]
    },
    {
      "cell_type": "code",
      "source": [
        "import numpy as np\n",
        "shape = (3, 2, 3)\n",
        "ones_array = np.ones(shape, dtype=int)\n",
        "print(ones_array)"
      ],
      "metadata": {
        "colab": {
          "base_uri": "https://localhost:8080/"
        },
        "id": "-7SEFDSbIb6m",
        "outputId": "ee9609fb-2a0d-41e8-ca80-83b87ac59ad8"
      },
      "execution_count": null,
      "outputs": [
        {
          "output_type": "stream",
          "name": "stdout",
          "text": [
            "[[[1 1 1]\n",
            "  [1 1 1]]\n",
            "\n",
            " [[1 1 1]\n",
            "  [1 1 1]]\n",
            "\n",
            " [[1 1 1]\n",
            "  [1 1 1]]]\n"
          ]
        }
      ]
    }
  ]
}